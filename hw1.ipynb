{
  "nbformat": 4,
  "nbformat_minor": 0,
  "metadata": {
    "colab": {
      "provenance": [],
      "authorship_tag": "ABX9TyNlYavS74nEBpaVV7G3S0hz",
      "include_colab_link": true
    },
    "kernelspec": {
      "name": "python3",
      "display_name": "Python 3"
    },
    "language_info": {
      "name": "python"
    }
  },
  "cells": [
    {
      "cell_type": "markdown",
      "metadata": {
        "id": "view-in-github",
        "colab_type": "text"
      },
      "source": [
        "<a href=\"https://colab.research.google.com/github/seohyeonb/git/blob/main/hw1.ipynb\" target=\"_parent\"><img src=\"https://colab.research.google.com/assets/colab-badge.svg\" alt=\"Open In Colab\"/></a>"
      ]
    },
    {
      "cell_type": "code",
      "execution_count": 2,
      "metadata": {
        "colab": {
          "base_uri": "https://localhost:8080/"
        },
        "id": "3kwOv41_RMCN",
        "outputId": "8377d13d-39af-4333-a1e7-a64d4040632c"
      },
      "outputs": [
        {
          "output_type": "stream",
          "name": "stdout",
          "text": [
            "넓이를 구하고자 하는 원의 반지름은? 1\n",
            "반지름이 1인 원의 넓이: 3.14 x 1 x 1 = 3.14\n"
          ]
        }
      ],
      "source": [
        "def get_radius(prompt):\n",
        "    answer = prompt*prompt*3.14\n",
        "    print('반지름이 {}인 원의 넓이: 3.14 x {} x {} = {}'.format(prompt,prompt, prompt, answer))\n",
        "\n",
        "\n",
        "prompt=int(input(\"넓이를 구하고자 하는 원의 반지름은? \"))\n",
        "get_radius(prompt)"
      ]
    },
    {
      "cell_type": "code",
      "source": [],
      "metadata": {
        "id": "pPAsvGihRNbz"
      },
      "execution_count": null,
      "outputs": []
    }
  ]
}