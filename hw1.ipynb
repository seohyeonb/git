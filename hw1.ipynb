{
  "nbformat": 4,
  "nbformat_minor": 0,
  "metadata": {
    "colab": {
      "provenance": [],
      "authorship_tag": "ABX9TyPO/QgKmeKo5tdv7uabYfX8",
      "include_colab_link": true
    },
    "kernelspec": {
      "name": "python3",
      "display_name": "Python 3"
    },
    "language_info": {
      "name": "python"
    }
  },
  "cells": [
    {
      "cell_type": "markdown",
      "metadata": {
        "id": "view-in-github",
        "colab_type": "text"
      },
      "source": [
        "<a href=\"https://colab.research.google.com/github/seohyeonb/git/blob/main/hw1.ipynb\" target=\"_parent\"><img src=\"https://colab.research.google.com/assets/colab-badge.svg\" alt=\"Open In Colab\"/></a>"
      ]
    },
    {
      "cell_type": "code",
      "source": [
        "def get_radius(prompt):\n",
        "  r = int(input(prompt))\n",
        "  return r;\n",
        "\n",
        "def circle_area(r):\n",
        "  area = 3.14*r*r\n",
        "  return area;\n",
        "\n",
        "n = get_radius('넓이를 구하고자 하는 원의 반지름은?\\n')\n",
        "area = circle_area(n)\n",
        "print('반지름이',n,'인 원의 넓이:','3.14 x',n,'x',n,'=',area,'이다')"
      ],
      "metadata": {
        "id": "pPAsvGihRNbz",
        "outputId": "22b8deb8-ce17-4d23-a334-135944a0469d",
        "colab": {
          "base_uri": "https://localhost:8080/"
        }
      },
      "execution_count": 1,
      "outputs": [
        {
          "output_type": "stream",
          "name": "stdout",
          "text": [
            "넓이를 구하고자 하는 원의 반지름은?\n",
            "3\n",
            "반지름이 3 인 원의 넓이: 3.14 x 3 x 3 = 28.259999999999998 이다\n"
          ]
        }
      ]
    },
    {
      "cell_type": "code",
      "source": [],
      "metadata": {
        "id": "IUK11v9ryGvf"
      },
      "execution_count": null,
      "outputs": []
    }
  ]
}