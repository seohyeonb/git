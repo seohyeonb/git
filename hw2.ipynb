{
  "nbformat": 4,
  "nbformat_minor": 0,
  "metadata": {
    "colab": {
      "provenance": [],
      "authorship_tag": "ABX9TyMmuGTCjKMUFIh+caejY62O",
      "include_colab_link": true
    },
    "kernelspec": {
      "name": "python3",
      "display_name": "Python 3"
    },
    "language_info": {
      "name": "python"
    }
  },
  "cells": [
    {
      "cell_type": "markdown",
      "metadata": {
        "id": "view-in-github",
        "colab_type": "text"
      },
      "source": [
        "<a href=\"https://colab.research.google.com/github/seohyeonb/git/blob/main/hw2.ipynb\" target=\"_parent\"><img src=\"https://colab.research.google.com/assets/colab-badge.svg\" alt=\"Open In Colab\"/></a>"
      ]
    },
    {
      "cell_type": "code",
      "execution_count": 3,
      "metadata": {
        "colab": {
          "base_uri": "https://localhost:8080/"
        },
        "id": "qS7H_olo1XgG",
        "outputId": "ad47e342-9b67-43ba-acf9-b4ce35d1d702"
      },
      "outputs": [
        {
          "output_type": "stream",
          "name": "stdout",
          "text": [
            "동전으로 교환하고자 하는 금액은?:3520\n",
            "500원 동전의 개수: 7\n",
            "100원 동전의 개수: 0\n",
            "50원 동전의 개수: 0\n",
            "10원 동전의 개수: 2\n"
          ]
        }
      ],
      "source": [
        "def exchange(receivem):\n",
        "  n500=receivem//500\n",
        "  receivem%=500\n",
        "  n100=receivem//100\n",
        "  receivem%=100\n",
        "  n50=receivem//50\n",
        "  receivem%=50\n",
        "  n10=receivem//10\n",
        "  receivem%=10\n",
        "  print('500원 동전의 개수:',n500)\n",
        "  print('100원 동전의 개수:',n100)\n",
        "  print('50원 동전의 개수:',n50)\n",
        "  print('10원 동전의 개수:',n10)\n",
        "\n",
        "def get_integer(prompt):\n",
        "  res =int(input(prompt))\n",
        "  return res;\n",
        "\n",
        "\n",
        "money=get_integer('동전으로 교환하고자 하는 금액은?:')\n",
        "exchange(money)"
      ]
    },
    {
      "cell_type": "code",
      "source": [],
      "metadata": {
        "id": "IaolvMYh1bA7"
      },
      "execution_count": null,
      "outputs": []
    }
  ]
}