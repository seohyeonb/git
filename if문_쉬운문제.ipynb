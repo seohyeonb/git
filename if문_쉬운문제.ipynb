{
  "nbformat": 4,
  "nbformat_minor": 0,
  "metadata": {
    "colab": {
      "provenance": [],
      "authorship_tag": "ABX9TyONxa3WtZDgsv58v25UARcT",
      "include_colab_link": true
    },
    "kernelspec": {
      "name": "python3",
      "display_name": "Python 3"
    },
    "language_info": {
      "name": "python"
    }
  },
  "cells": [
    {
      "cell_type": "markdown",
      "metadata": {
        "id": "view-in-github",
        "colab_type": "text"
      },
      "source": [
        "<a href=\"https://colab.research.google.com/github/seohyeonb/git/blob/main/if%EB%AC%B8_%EC%89%AC%EC%9A%B4%EB%AC%B8%EC%A0%9C.ipynb\" target=\"_parent\"><img src=\"https://colab.research.google.com/assets/colab-badge.svg\" alt=\"Open In Colab\"/></a>"
      ]
    },
    {
      "cell_type": "code",
      "execution_count": null,
      "metadata": {
        "id": "-k-QIxgvCxqy"
      },
      "outputs": [],
      "source": [
        "n1=int(input('첫번째 정수는?'))\n",
        "n2=int(input('두번쨰 정수는?'))\n",
        "\n",
        "print(f'{n1}은 {n2}보다 큽니까? {n1>n2}')\n",
        "print(f'{n1}은 {n2}보다 크거나 혹은 같습니까?{n1>=n2}')\n",
        "print(){n2}보다 크거나 혹은"
      ]
    },
    {
      "cell_type": "code",
      "source": [
        "n1=int(input('첫번째 정수는?'))\n",
        "n2=int(input('두번째 정수는?'))\n",
        "\n",
        "if n1<=n2:\n",
        "  print(f'{n1}은 {n2}보다 작거나 같다')\n",
        "else:\n",
        "  print(f'{n1}은 {n2}보다 크다')"
      ],
      "metadata": {
        "colab": {
          "base_uri": "https://localhost:8080/"
        },
        "id": "KTL55XO9J_7P",
        "outputId": "6417bc23-e0a2-44b7-849b-feaecac45c31"
      },
      "execution_count": null,
      "outputs": [
        {
          "output_type": "stream",
          "name": "stdout",
          "text": [
            "첫번째 정수는?4\n",
            "두번째 정수는?3\n",
            "4은 3보다 크다\n"
          ]
        }
      ]
    },
    {
      "cell_type": "code",
      "source": [
        "num=int(input('정수를 입력하세요'))\n",
        "\n",
        "def is_even_number(n):\n",
        "  if n%2==0:\n",
        "    return true\n",
        "  else:\n",
        "    return false\n",
        "\n",
        "if is_even_number(num)==true:\n",
        "  print(f'{num}은 짝수입니다')\n",
        "if is_even_number(num)==false:\n",
        "  print(f'{num}은 홀수입니다')"
      ],
      "metadata": {
        "id": "3jPF84AeMpHX"
      },
      "execution_count": null,
      "outputs": []
    },
    {
      "cell_type": "code",
      "source": [
        "num=int(input('정수를 입력하세요'))\n",
        "\n",
        "if num==0:\n",
        "  print('0')\n",
        "else:\n",
        "  if num>0:\n",
        "  print(f'양수입니다')\n",
        "\n",
        "  else:\n",
        "  print(f'음수입니다')"
      ],
      "metadata": {
        "colab": {
          "base_uri": "https://localhost:8080/",
          "height": 109
        },
        "id": "e3AFi-X9RvPI",
        "outputId": "d2751d17-2c5a-4675-b07b-72f64255814e"
      },
      "execution_count": null,
      "outputs": [
        {
          "output_type": "error",
          "ename": "IndentationError",
          "evalue": "expected an indented block after 'if' statement on line 6 (<ipython-input-34-9dd58a972400>, line 7)",
          "traceback": [
            "\u001b[0;36m  File \u001b[0;32m\"<ipython-input-34-9dd58a972400>\"\u001b[0;36m, line \u001b[0;32m7\u001b[0m\n\u001b[0;31m    print(f'양수입니다')\u001b[0m\n\u001b[0m    ^\u001b[0m\n\u001b[0;31mIndentationError\u001b[0m\u001b[0;31m:\u001b[0m expected an indented block after 'if' statement on line 6\n"
          ]
        }
      ]
    },
    {
      "cell_type": "code",
      "source": [
        "score=int(input('점수를 입력하세요'))\n",
        "def gradefun(grade):\n",
        "  if grade>=90:\n",
        "    print(f'{score}이므로 A학점입니다')\n",
        "  elif grade>=80 and grade<=90:\n",
        "    print(f'{score}이므로 B학점입니다')\n",
        "  elif grade>=70 and grade<=80:\n",
        "    print(f'{score}이므로 C학점입니다')\n",
        "  elif grade>=60 and grade<=70:\n",
        "    print(f'{score}이므로 D학점입니다')\n",
        "  else:\n",
        "    print(f'{score}이므로 F학점입니다')\n",
        "\n",
        "gradefun(score)"
      ],
      "metadata": {
        "colab": {
          "base_uri": "https://localhost:8080/"
        },
        "id": "8azjZ_bcUudt",
        "outputId": "422d85ca-ee8c-4ca6-b71f-dee810ab64c5"
      },
      "execution_count": null,
      "outputs": [
        {
          "output_type": "stream",
          "name": "stdout",
          "text": [
            "점수를 입력하세요78\n",
            "78이므로 C학점입니다\n"
          ]
        }
      ]
    },
    {
      "cell_type": "code",
      "source": [],
      "metadata": {
        "id": "f2--b6GaW_SR"
      },
      "execution_count": null,
      "outputs": []
    }
  ]
}