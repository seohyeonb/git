{
  "nbformat": 4,
  "nbformat_minor": 0,
  "metadata": {
    "colab": {
      "provenance": [],
      "authorship_tag": "ABX9TyOnQhMDhKEhfYgstnkYNtnS",
      "include_colab_link": true
    },
    "kernelspec": {
      "name": "python3",
      "display_name": "Python 3"
    },
    "language_info": {
      "name": "python"
    }
  },
  "cells": [
    {
      "cell_type": "markdown",
      "metadata": {
        "id": "view-in-github",
        "colab_type": "text"
      },
      "source": [
        "<a href=\"https://colab.research.google.com/github/seohyeonb/git/blob/main/%EA%B0%84%EA%B2%A9%EB%9D%84%EC%9A%B0%EA%B8%B0.ipynb\" target=\"_parent\"><img src=\"https://colab.research.google.com/assets/colab-badge.svg\" alt=\"Open In Colab\"/></a>"
      ]
    },
    {
      "cell_type": "code",
      "execution_count": null,
      "metadata": {
        "colab": {
          "base_uri": "https://localhost:8080/"
        },
        "id": "L1pLnfDQB6vv",
        "outputId": "494e50e9-e384-495f-bc1c-e14611f2f1ea"
      },
      "outputs": [
        {
          "output_type": "stream",
          "name": "stdout",
          "text": [
            "\"때론 내 삶의 변화를 위해 '내어 맡김'이 필요하다\"\n"
          ]
        }
      ],
      "source": [
        "print('\"때론 내 삶의 변화를 위해 \\'내어 맡김\\'이 필요하다\"')"
      ]
    },
    {
      "cell_type": "code",
      "source": [
        "print('11\\t홍길동\\n123\\t일지매')"
      ],
      "metadata": {
        "id": "3oBHJUazEKEu",
        "colab": {
          "base_uri": "https://localhost:8080/"
        },
        "outputId": "45a92ebf-80f3-4e06-a033-9861de20b8d8"
      },
      "execution_count": null,
      "outputs": [
        {
          "output_type": "stream",
          "name": "stdout",
          "text": [
            "11\t홍길동\n",
            "123\t일지매\n"
          ]
        }
      ]
    },
    {
      "cell_type": "code",
      "source": [
        "print('동해물과 백두산이 마르고 닳도록 \\\n",
        "하느님이 보우하사 우리나라 만세')"
      ],
      "metadata": {
        "colab": {
          "base_uri": "https://localhost:8080/"
        },
        "id": "CVhEqG_cE0fU",
        "outputId": "bb2f6590-aa20-48ed-911a-b8452a5e7bc5"
      },
      "execution_count": null,
      "outputs": [
        {
          "output_type": "stream",
          "name": "stdout",
          "text": [
            "동해물과 백두산이 마르고 닳도록 하느님이 보우하사 우리나라 만세\n"
          ]
        }
      ]
    },
    {
      "cell_type": "code",
      "source": [
        "msg='안녕하세요'\n",
        "print(msg[0:4])\n",
        "print(msg[:-1])"
      ],
      "metadata": {
        "colab": {
          "base_uri": "https://localhost:8080/"
        },
        "id": "bNETsdF_FRxJ",
        "outputId": "564e9b12-1192-442a-f2d5-7a8bf14b860f"
      },
      "execution_count": null,
      "outputs": [
        {
          "output_type": "stream",
          "name": "stdout",
          "text": [
            "안녕하세\n",
            "안녕하세\n"
          ]
        }
      ]
    },
    {
      "cell_type": "code",
      "source": [
        "res=2*2\n",
        "print(2 +res)"
      ],
      "metadata": {
        "colab": {
          "base_uri": "https://localhost:8080/"
        },
        "id": "jJjjvZ-tGS5I",
        "outputId": "abe403cc-5870-4cdc-e37c-6fd85f6b5bf3"
      },
      "execution_count": null,
      "outputs": [
        {
          "output_type": "stream",
          "name": "stdout",
          "text": [
            "6\n"
          ]
        }
      ]
    },
    {
      "cell_type": "code",
      "source": [
        "\n",
        "\n",
        "def divide_name(name):\n",
        "  firstname=name[0]\n",
        "  lastname=name[1:]\n",
        "  print('-'*12)\n",
        "  print('성:\\t'+firstname)\n",
        "  print('이름:\\t'+lastname)\n",
        "  print('-'*12)\n",
        "\n",
        "n=(input('당신의 이름은?'))\n",
        "divide_name(n)"
      ],
      "metadata": {
        "colab": {
          "base_uri": "https://localhost:8080/"
        },
        "id": "ISoeGHlzI4yG",
        "outputId": "470e3abd-cb6f-4d73-d3d0-c19821ba8016"
      },
      "execution_count": null,
      "outputs": [
        {
          "output_type": "stream",
          "name": "stdout",
          "text": [
            "당신의 이름은?박서현\n",
            "------------\n",
            "성:\t박\n",
            "이름:\t서현\n",
            "------------\n"
          ]
        }
      ]
    },
    {
      "cell_type": "code",
      "source": [
        "n1=int(input('첫번째 정수는? '))\n",
        "n2=int(input('두번째 정수는? '))\n",
        "\n",
        "\n",
        "avg=n1/n2\n",
        "\n",
        "print(f'{n1}/{n2}={avg}')\n",
        "\n"
      ],
      "metadata": {
        "colab": {
          "base_uri": "https://localhost:8080/"
        },
        "id": "ed33Z4rMOo98",
        "outputId": "0b8dc142-1517-4932-fca8-3e424ac104a3"
      },
      "execution_count": null,
      "outputs": [
        {
          "output_type": "stream",
          "name": "stdout",
          "text": [
            "첫번째 정수는? 1000\n",
            "두번째 정수는? 8\n",
            "1000/8=125.0\n"
          ]
        }
      ]
    },
    {
      "cell_type": "code",
      "source": [
        "num=15\n",
        "print(f'[{num:d}]')\n",
        "print(f'[{num:5d}]')\n",
        "print(f'[{num:<10d}]')\n",
        "print(f'[{num:^10d}]')\n",
        "\n"
      ],
      "metadata": {
        "colab": {
          "base_uri": "https://localhost:8080/"
        },
        "id": "jS-Mvm3wS99l",
        "outputId": "cfe3d94d-d7a1-4d92-e713-41aac897bd7e"
      },
      "execution_count": null,
      "outputs": [
        {
          "output_type": "stream",
          "name": "stdout",
          "text": [
            "[15]\n",
            "[   15]\n",
            "[15        ]\n",
            "[    15    ]\n"
          ]
        }
      ]
    },
    {
      "cell_type": "code",
      "source": [
        "pi=3.14159265\n",
        "\n",
        "print(f'[{pi:f}]')\n",
        "print(f'[{pi:3f}]')\n",
        "print(f'[{pi:05f}]')"
      ],
      "metadata": {
        "colab": {
          "base_uri": "https://localhost:8080/"
        },
        "id": "DUPiq_6WVUm2",
        "outputId": "c012a616-f040-44d0-8cbb-e885b2368705"
      },
      "execution_count": null,
      "outputs": [
        {
          "output_type": "stream",
          "name": "stdout",
          "text": [
            "[3.141593]\n",
            "[3.141593]\n",
            "[3.141593]\n"
          ]
        }
      ]
    },
    {
      "cell_type": "code",
      "source": [
        "text='python'\n",
        "print('t' in text)\n",
        "print('p' not in text)"
      ],
      "metadata": {
        "colab": {
          "base_uri": "https://localhost:8080/"
        },
        "id": "m_1cxY_CVqIr",
        "outputId": "0b0eb588-51bf-4b6d-e63b-dbe4b686b326"
      },
      "execution_count": null,
      "outputs": [
        {
          "output_type": "stream",
          "name": "stdout",
          "text": [
            "True\n",
            "False\n"
          ]
        }
      ]
    },
    {
      "cell_type": "code",
      "source": [
        "num=input('정수를 입력하세요')\n",
        "length=len(num)\n",
        "print(f'입력하신 {num}은 {length}자리 정수입니다')"
      ],
      "metadata": {
        "colab": {
          "base_uri": "https://localhost:8080/"
        },
        "id": "lDe0yEHFa-AN",
        "outputId": "3a571e62-0473-45ef-f56c-9871b155c753"
      },
      "execution_count": null,
      "outputs": [
        {
          "output_type": "stream",
          "name": "stdout",
          "text": [
            "정수를 입력하세요1112\n",
            "입력하신 1112은 4자리 정수입니다\n"
          ]
        }
      ]
    },
    {
      "cell_type": "code",
      "source": [
        "week='월화수목금금금금금요일'\n",
        "\n",
        "pos=week.find('금',5)\n",
        "print(pos)"
      ],
      "metadata": {
        "colab": {
          "base_uri": "https://localhost:8080/"
        },
        "id": "wQFBszELbS4P",
        "outputId": "f514f028-d90a-40d4-b456-18deef64d174"
      },
      "execution_count": null,
      "outputs": [
        {
          "output_type": "stream",
          "name": "stdout",
          "text": [
            "5\n"
          ]
        }
      ]
    },
    {
      "cell_type": "code",
      "source": [
        "def introduce(name,grade):\n",
        "  lastname=name[1:]\n",
        "  nextgrade=grade+1\n",
        "  return f'{lastname}은 내년에 {nextgrade}학년입니다'\n",
        "\n",
        "n=(input('이름은?'))\n",
        "g=int(input('학년은?'))\n",
        "msg=introduce(n,g)\n",
        "print(msg)"
      ],
      "metadata": {
        "colab": {
          "base_uri": "https://localhost:8080/"
        },
        "id": "aJCXOLefdRoW",
        "outputId": "88cc7974-0c03-472a-9ea8-4c698bdf8b0d"
      },
      "execution_count": null,
      "outputs": [
        {
          "output_type": "stream",
          "name": "stdout",
          "text": [
            "이름은?박보검\n",
            "학년은?2\n",
            "보검은 내년에 3학년입니다\n"
          ]
        }
      ]
    },
    {
      "cell_type": "code",
      "source": [
        "def rep_char (c,n):\n",
        "  print(c*n)\n",
        "\n",
        "def draw_line_string(name):\n",
        "  msg1='Hello '+name+','\n",
        "  msg2='Welcome to Seoul.'\n",
        "  nstr= len(msg1) if (len(msg1) > len(msg2)) else len(msg2)\n",
        "  rep_char('-',nstr+2)\n",
        "  print(f' {msg1} ')\n",
        "  print(f' {msg2} ')\n",
        "  rep_char('-',nstr+2)\n",
        "\n",
        "n=input('이름 입력하세요')\n",
        "draw_line_string(n)\n"
      ],
      "metadata": {
        "id": "R8o6dVXtix9_",
        "colab": {
          "base_uri": "https://localhost:8080/"
        },
        "outputId": "1dffac87-f445-4626-b653-e5a450fa5d73"
      },
      "execution_count": 9,
      "outputs": [
        {
          "output_type": "stream",
          "name": "stdout",
          "text": [
            "이름 입력하세요ss\n",
            "-------------------\n",
            " Hello ss, \n",
            " Welcome to Seoul. \n",
            "-------------------\n"
          ]
        }
      ]
    }
  ]
}