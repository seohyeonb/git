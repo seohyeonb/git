{
  "nbformat": 4,
  "nbformat_minor": 0,
  "metadata": {
    "colab": {
      "provenance": [],
      "authorship_tag": "ABX9TyMMGX1HixMdM6h3W5UnRwEL",
      "include_colab_link": true
    },
    "kernelspec": {
      "name": "python3",
      "display_name": "Python 3"
    },
    "language_info": {
      "name": "python"
    }
  },
  "cells": [
    {
      "cell_type": "markdown",
      "metadata": {
        "id": "view-in-github",
        "colab_type": "text"
      },
      "source": [
        "<a href=\"https://colab.research.google.com/github/seohyeonb/git/blob/main/%EB%B3%84%EC%B0%8D%EA%B8%B0.ipynb\" target=\"_parent\"><img src=\"https://colab.research.google.com/assets/colab-badge.svg\" alt=\"Open In Colab\"/></a>"
      ]
    },
    {
      "cell_type": "code",
      "source": [
        "for i in range(1,10,2):\n",
        "  print(' '*((9-i)//2),'*'*i,' '*((9-i)//2))\n",
        "for i in range(7,0,-2):\n",
        "  print(' '*((9-i)//2),'*'*i,' '*((9-i)//2))"
      ],
      "metadata": {
        "colab": {
          "base_uri": "https://localhost:8080/"
        },
        "id": "_cdOc3mZtPiM",
        "outputId": "83590908-99ef-4a05-9dad-06a24bf748d2"
      },
      "execution_count": null,
      "outputs": [
        {
          "output_type": "stream",
          "name": "stdout",
          "text": [
            "     *     \n",
            "    ***    \n",
            "   *****   \n",
            "  *******  \n",
            " ********* \n",
            "  *******  \n",
            "   *****   \n",
            "    ***    \n",
            "     *     \n"
          ]
        }
      ]
    },
    {
      "cell_type": "code",
      "source": [
        "for i in range(1,6):\n",
        "  print(' '*(5-i),'*'*i)"
      ],
      "metadata": {
        "colab": {
          "base_uri": "https://localhost:8080/"
        },
        "id": "UkgK4dFJw_VP",
        "outputId": "8b6931e0-2c90-46de-8c11-0caf6a1e7eb5"
      },
      "execution_count": null,
      "outputs": [
        {
          "output_type": "stream",
          "name": "stdout",
          "text": [
            "     *\n",
            "    **\n",
            "   ***\n",
            "  ****\n",
            " *****\n"
          ]
        }
      ]
    },
    {
      "cell_type": "code",
      "source": [
        "for i in range(1,6):\n",
        "  print('*'*5)"
      ],
      "metadata": {
        "colab": {
          "base_uri": "https://localhost:8080/"
        },
        "id": "GyudlQF7xXWN",
        "outputId": "dde5d188-bbc0-44da-88f0-e63ef6f227d3"
      },
      "execution_count": null,
      "outputs": [
        {
          "output_type": "stream",
          "name": "stdout",
          "text": [
            "*****\n",
            "*****\n",
            "*****\n",
            "*****\n",
            "*****\n"
          ]
        }
      ]
    },
    {
      "cell_type": "code",
      "source": [
        "for i in range(5):\n",
        "\tprint('*',end='')"
      ],
      "metadata": {
        "colab": {
          "base_uri": "https://localhost:8080/"
        },
        "id": "XqHPMud1xvrS",
        "outputId": "115e3b8c-0105-42a8-cc04-d866d1f47c1c"
      },
      "execution_count": null,
      "outputs": [
        {
          "output_type": "stream",
          "name": "stdout",
          "text": [
            "*****"
          ]
        }
      ]
    },
    {
      "cell_type": "code",
      "source": [
        "x=int(input('정수x를 입력하세요'))\n",
        "y=int(input('정수y를 입력하세요'))\n",
        "\n",
        "if x>0 and y>0:\n",
        "  print('1사분면입니다')\n",
        "if x>0 and y>0:\n",
        "  print('1사분면입니다')\n",
        "if x>0 and y>0:\n",
        "  print('1사분면입니다')\n",
        "\n",
        "if x>0 and y>0:\n",
        "  print('1사분면입니다')\n",
        "\n"
      ],
      "metadata": {
        "id": "qmV3h7Rq0xu1"
      },
      "execution_count": null,
      "outputs": []
    },
    {
      "cell_type": "code",
      "source": [
        "for i in range(2,101,2):\n",
        "  print(i)"
      ],
      "metadata": {
        "id": "U9xO0VJ0ECLX"
      },
      "execution_count": null,
      "outputs": []
    },
    {
      "cell_type": "code",
      "source": [
        "def display_triangle(height):\n",
        "    for i in range(1,height+1):\n",
        "        display_num(' ',height+1)\n",
        "        display_num(ch,1)\n",
        "        print()\n",
        "def display_num(ch,n):\n",
        "    for i in range(1,n+1):\n",
        "        print(1,end=' ')\n",
        "h=int(input('높이?'))\n",
        "display_triangle(h)\n"
      ],
      "metadata": {
        "id": "akmhDgnEIFUm"
      },
      "execution_count": null,
      "outputs": []
    }
  ]
}