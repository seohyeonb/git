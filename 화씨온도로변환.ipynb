{
  "nbformat": 4,
  "nbformat_minor": 0,
  "metadata": {
    "colab": {
      "provenance": [],
      "authorship_tag": "ABX9TyNpaohzx8T0/aW7bIMjjc5w",
      "include_colab_link": true
    },
    "kernelspec": {
      "name": "python3",
      "display_name": "Python 3"
    },
    "language_info": {
      "name": "python"
    }
  },
  "cells": [
    {
      "cell_type": "markdown",
      "metadata": {
        "id": "view-in-github",
        "colab_type": "text"
      },
      "source": [
        "<a href=\"https://colab.research.google.com/github/seohyeonb/git/blob/main/%ED%99%94%EC%94%A8%EC%98%A8%EB%8F%84%EB%A1%9C%EB%B3%80%ED%99%98.ipynb\" target=\"_parent\"><img src=\"https://colab.research.google.com/assets/colab-badge.svg\" alt=\"Open In Colab\"/></a>"
      ]
    },
    {
      "cell_type": "code",
      "source": [
        "n1 = int(input('피젯수를 정수로 입력하세요:'))\n",
        "n2 = int(input('젯수를 정수로 입력하세요:'))\n",
        "print('몫:',n1//n2)\n",
        "print('나머지:',n1%n2)\n"
      ],
      "metadata": {
        "colab": {
          "base_uri": "https://localhost:8080/"
        },
        "id": "C3n6u86W-ofF",
        "outputId": "d631206a-2b6b-4fb6-c9d2-47c16768ce2d"
      },
      "execution_count": null,
      "outputs": [
        {
          "output_type": "stream",
          "name": "stdout",
          "text": [
            "피젯수를 정수로 입력하세요:6\n",
            "젯수를 정수로 입력하세요:4\n",
            "몫: 1\n",
            "나머지: 2\n"
          ]
        }
      ]
    },
    {
      "cell_type": "code",
      "source": [
        "def show_division(dividend, divisior):\n",
        "  quotient = dividend // divisior\n",
        "  remainder = dividend % divisior\n",
        "  print('몫=',quotient)\n",
        "  print('나머지=', remainder)\n",
        "\n",
        "n1 = int(input('피젯수를 정수로 입력하세요:'))\n",
        "n2 = int(input('젯수를 정수로 입력하세요:'))\n",
        "show_division(n1,n2)"
      ],
      "metadata": {
        "colab": {
          "base_uri": "https://localhost:8080/"
        },
        "id": "6WOhSvvl-7nE",
        "outputId": "2758d051-380f-4d63-d711-5a524679d23b"
      },
      "execution_count": null,
      "outputs": [
        {
          "output_type": "stream",
          "name": "stdout",
          "text": [
            "피젯수를 정수로 입력하세요:4\n",
            "젯수를 정수로 입력하세요:3\n",
            "몫= 1\n",
            "나머지= 1\n"
          ]
        }
      ]
    },
    {
      "cell_type": "code",
      "source": [
        "n1 = 0b0101101\n",
        "n2 = 0b00001111\n",
        "print(bin(n1&n2))\n",
        "print(bin(n1|n2))"
      ],
      "metadata": {
        "colab": {
          "base_uri": "https://localhost:8080/"
        },
        "id": "soV_ZMwCDfdk",
        "outputId": "c61b4ba5-9bac-409c-e35c-bfdec7827d2c"
      },
      "execution_count": null,
      "outputs": [
        {
          "output_type": "stream",
          "name": "stdout",
          "text": [
            "0b1101\n",
            "0b101111\n"
          ]
        }
      ]
    },
    {
      "cell_type": "code",
      "source": [
        "n2 = 0b00001111\n",
        "print(bin(n2>>2))"
      ],
      "metadata": {
        "colab": {
          "base_uri": "https://localhost:8080/"
        },
        "id": "EUoTK0MsK3pR",
        "outputId": "386c246b-3d78-47d1-9793-86610d8389b5"
      },
      "execution_count": null,
      "outputs": [
        {
          "output_type": "stream",
          "name": "stdout",
          "text": [
            "0b11\n"
          ]
        }
      ]
    },
    {
      "cell_type": "code",
      "source": [
        "def fahrenheit_to_celsius(f):\n",
        "    c=5/9*(f-32)\n",
        "    return c;\n",
        "\n",
        "def get_real(prompt):\n",
        "  res=float(input(prompt))\n",
        "  return res;\n",
        "\n",
        "\n",
        "ftemp=get_real('변환하고자 하는 화씨온도는?')\n",
        "ctemp=fahrenheit_to_celsius(ftemp)\n",
        "print('화씨',ftemp,'도는','섭씨',ctemp,'도')"
      ],
      "metadata": {
        "colab": {
          "base_uri": "https://localhost:8080/"
        },
        "id": "156LZiUgNHCD",
        "outputId": "4baa1849-f444-45f6-da5c-d6a1520ffe80"
      },
      "execution_count": null,
      "outputs": [
        {
          "output_type": "stream",
          "name": "stdout",
          "text": [
            "변환하고자 하는 화씨온도는?100\n",
            "화씨 100.0 도는 섭씨 37.77777777777778 도\n"
          ]
        }
      ]
    },
    {
      "cell_type": "code",
      "source": [
        "def convert_time(sec):\n",
        "    h=sec//3600\n",
        "    s=sec%3600\n",
        "    m=s//60\n",
        "    s=s%60\n",
        "    print(sec,'초는',h,'시간', m,'분',s,'초이다')\n",
        "\n",
        "def get_real(prompt):\n",
        "  res=float(input(prompt))\n",
        "  return res;\n",
        "\n",
        "\n",
        "sec=get_real('변환하고자 하는 초는?')\n",
        "convert_time(sec)"
      ],
      "metadata": {
        "colab": {
          "base_uri": "https://localhost:8080/"
        },
        "id": "mFL-fdaiXP52",
        "outputId": "03da88ba-916a-4b10-ae69-314849894490"
      },
      "execution_count": null,
      "outputs": [
        {
          "output_type": "stream",
          "name": "stdout",
          "text": [
            "변환하고자 하는 초는?2000\n",
            "2000.0 초는 0.0 시간 33.0 분 20.0 초이다\n"
          ]
        }
      ]
    },
    {
      "cell_type": "code",
      "source": [
        "def set_all_bits(n):\n",
        "  n=\n",
        "  print(n<<2)\n",
        "\n",
        "\n",
        "\n",
        "def get_real(prompt):\n",
        "  res=float(input(prompt))\n",
        "  return res;"
      ],
      "metadata": {
        "id": "G6nzxWLrbU49"
      },
      "execution_count": null,
      "outputs": []
    }
  ]
}